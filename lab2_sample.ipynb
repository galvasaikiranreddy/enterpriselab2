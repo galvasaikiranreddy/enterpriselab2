{
  "nbformat": 4,
  "nbformat_minor": 0,
  "metadata": {
    "colab": {
      "name": "lab2_sample.ipynb",
      "provenance": [],
      "authorship_tag": "ABX9TyPWHUbsuDivfB1GupNN1scK",
      "include_colab_link": true
    },
    "kernelspec": {
      "name": "python3",
      "display_name": "Python 3"
    }
  },
  "cells": [
    {
      "cell_type": "markdown",
      "metadata": {
        "id": "view-in-github",
        "colab_type": "text"
      },
      "source": [
        "<a href=\"https://colab.research.google.com/github/galvasaikiranreddy/enterpriselab2/blob/master/lab2_sample.ipynb\" target=\"_parent\"><img src=\"https://colab.research.google.com/assets/colab-badge.svg\" alt=\"Open In Colab\"/></a>"
      ]
    },
    {
      "cell_type": "markdown",
      "metadata": {
        "id": "lTB10OhF0x6r",
        "colab_type": "text"
      },
      "source": [
        "AREA OF RECTANGLE"
      ]
    },
    {
      "cell_type": "code",
      "metadata": {
        "id": "LzKAtcSfvhpc",
        "colab_type": "code",
        "outputId": "b11a2bf6-1c5f-48fc-88ae-8228269d084c",
        "colab": {
          "base_uri": "https://localhost:8080/",
          "height": 50
        }
      },
      "source": [
        "length = int(input(\"enter the length of rectangle\"))\n",
        "breadth = int(input(\"enter breadth of rectangle\"))"
      ],
      "execution_count": 1,
      "outputs": [
        {
          "output_type": "stream",
          "text": [
            "enter the length of rectangle5\n",
            "enter breadth of rectangle4\n"
          ],
          "name": "stdout"
        }
      ]
    },
    {
      "cell_type": "code",
      "metadata": {
        "id": "XXERqzwgvk-O",
        "colab_type": "code",
        "colab": {}
      },
      "source": [
        "area =   length * breadth"
      ],
      "execution_count": 0,
      "outputs": []
    },
    {
      "cell_type": "code",
      "metadata": {
        "id": "hqEGJIAtvrs7",
        "colab_type": "code",
        "outputId": "fef3b915-faa4-4f48-d37a-ffe3f08baad7",
        "colab": {
          "base_uri": "https://localhost:8080/",
          "height": 34
        }
      },
      "source": [
        "print(\"area of the rectangle = \",area)"
      ],
      "execution_count": 3,
      "outputs": [
        {
          "output_type": "stream",
          "text": [
            "area of the rectangle =  20\n"
          ],
          "name": "stdout"
        }
      ]
    },
    {
      "cell_type": "code",
      "metadata": {
        "id": "M4N7PjCrvxOo",
        "colab_type": "code",
        "colab": {}
      },
      "source": [
        ""
      ],
      "execution_count": 0,
      "outputs": []
    }
  ]
}