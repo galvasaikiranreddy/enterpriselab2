{
  "nbformat": 4,
  "nbformat_minor": 0,
  "metadata": {
    "colab": {
      "name": "BasicProgram2.ipynb",
      "provenance": [],
      "authorship_tag": "ABX9TyN0zxpECir2nMKN5h2X96eP",
      "include_colab_link": true
    },
    "kernelspec": {
      "name": "python3",
      "display_name": "Python 3"
    }
  },
  "cells": [
    {
      "cell_type": "markdown",
      "metadata": {
        "id": "view-in-github",
        "colab_type": "text"
      },
      "source": [
        "<a href=\"https://colab.research.google.com/github/galvasaikiranreddy/enterpriselab2/blob/master/BasicProgram2.ipynb\" target=\"_parent\"><img src=\"https://colab.research.google.com/assets/colab-badge.svg\" alt=\"Open In Colab\"/></a>"
      ]
    },
    {
      "cell_type": "markdown",
      "metadata": {
        "id": "lTB10OhF0x6r",
        "colab_type": "text"
      },
      "source": [
        "PERIMETER OF SQUARE"
      ]
    },
    {
      "cell_type": "code",
      "metadata": {
        "id": "LzKAtcSfvhpc",
        "colab_type": "code",
        "colab": {
          "base_uri": "https://localhost:8080/",
          "height": 34
        },
        "outputId": "7305f1ed-1421-4682-d2f2-df3a5e5c9a3b"
      },
      "source": [
        "length = int(input(\"enter the length of square\"))"
      ],
      "execution_count": 14,
      "outputs": [
        {
          "output_type": "stream",
          "text": [
            "enter the length of square4\n"
          ],
          "name": "stdout"
        }
      ]
    },
    {
      "cell_type": "code",
      "metadata": {
        "id": "XXERqzwgvk-O",
        "colab_type": "code",
        "colab": {}
      },
      "source": [
        "perimeter = 4 * length"
      ],
      "execution_count": 0,
      "outputs": []
    },
    {
      "cell_type": "code",
      "metadata": {
        "id": "hqEGJIAtvrs7",
        "colab_type": "code",
        "colab": {
          "base_uri": "https://localhost:8080/",
          "height": 34
        },
        "outputId": "eba3b0b6-26ae-4e93-d882-31601765f55f"
      },
      "source": [
        "print(\"Perimeter of the square = \",perimeter)"
      ],
      "execution_count": 16,
      "outputs": [
        {
          "output_type": "stream",
          "text": [
            "Perimeter of the square =  16\n"
          ],
          "name": "stdout"
        }
      ]
    },
    {
      "cell_type": "code",
      "metadata": {
        "id": "M4N7PjCrvxOo",
        "colab_type": "code",
        "colab": {}
      },
      "source": [
        ""
      ],
      "execution_count": 0,
      "outputs": []
    }
  ]
}